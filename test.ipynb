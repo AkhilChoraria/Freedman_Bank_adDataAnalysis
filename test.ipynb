{
 "cells": [
  {
   "attachments": {},
   "cell_type": "markdown",
   "metadata": {},
   "source": [
    "# Generating Embeddings for Cosine Similarity\n",
    "Using BERT to convert dataset of ads into embeddings to measure topic intensity of ads. "
   ]
  },
  {
   "attachments": {},
   "cell_type": "markdown",
   "metadata": {},
   "source": [
    "### 0: Installing Packages and Importing Dependencies\n",
    "This Jupyter notebook makes use of the `transformers` package from HuggingFace and uses PyTorch for tensor operations."
   ]
  },
  {
   "cell_type": "code",
   "execution_count": null,
   "metadata": {},
   "outputs": [],
   "source": [
    "%pip install transformers"
   ]
  },
  {
   "cell_type": "code",
   "execution_count": null,
   "metadata": {},
   "outputs": [],
   "source": [
    "import torch\n",
    "from transformers import BertTokenizer, BertModel\n",
    "import matplotlib.pyplot as plt\n",
    "\n",
    "# Loading the pre-trained model's tokenizer (a.k.a dictionary)\n",
    "model_names = {'base uncased': 'bert-base-uncased', 'large uncased': 'bert-large-uncased', \n",
    "               'base cased': 'bert-base-cased', 'large cased': 'bert-large-cased'}\n",
    "tokenizer = BertTokenizer.from_pretrained('bert-base-uncased')"
   ]
  },
  {
   "attachments": {},
   "cell_type": "markdown",
   "metadata": {},
   "source": [
    "### 1: Generating Encodings\n",
    "Converting the raw text from the dataset into encodings which captures the contextual meaning of words in the input."
   ]
  },
  {
   "cell_type": "code",
   "execution_count": null,
   "metadata": {},
   "outputs": [],
   "source": [
    "from Scripts import createTokensFromAd\n",
    "from Scripts import data_wrapper\n",
    "#Map of Identifier -> Marked Text\n",
    "ads_marked_text = createTokensFromAd.main()\n",
    "#Map of Identifier -> Encoded text\n",
    "encoded_ads = {}\n",
    "max_len=0\n",
    "for identifier, text in ads_marked_text.items():  \n",
    "    encoding= tokenizer.encode_plus(text,add_special_tokens=True,return_token_type_ids=True, return_attention_mask=True, truncation=True)\n",
    "    max_len = max(max_len, len(encoding['input_ids']))\n",
    "    encoded_ads[identifier] = encoding\n",
    "#Adding padding to max length of the input ids.\n",
    "for identifier, encoding in encoded_ads.items():\n",
    "    encoding['input_ids'] += [0] * (max_len - len(encoding['input_ids']))\n",
    "    encoding['token_type_ids'] += [0] * (max_len - len(encoding['token_type_ids']))\n",
    "    encoding['attention_mask'] += [0] * (max_len - len(encoding['attention_mask']))\n",
    "\n"
   ]
  },
  {
   "attachments": {},
   "cell_type": "markdown",
   "metadata": {},
   "source": [
    "### 2: Converting encoding into PyTorch Tensors\n",
    "A useful step before extracting the embeddings is standardizing the format of input into tensors of identical shape."
   ]
  },
  {
   "cell_type": "code",
   "execution_count": null,
   "metadata": {},
   "outputs": [],
   "source": [
    "#Extract Embeddings\n",
    "\n",
    "encoded_ads_tensors = {}\n",
    "for identifier,encoding in encoded_ads.items():\n",
    "    token_tensor=torch.tensor([encoding['input_ids']])\n",
    "    segment_tensor = torch.tensor([encoding['token_type_ids']])\n",
    "    attention_tensor = torch.tensor([encoding['attention_mask']])\n",
    "    encoded_ads_tensors[identifier] = (token_tensor, segment_tensor, attention_tensor)\n",
    "    \n",
    "    \n",
    "    \n",
    "#Loading the Bert Model\n",
    "model = BertModel.from_pretrained('bert-base-uncased',\n",
    "                                  output_hidden_states = True, # Whether the model returns all hidden-states)\n",
    ")\n",
    "model.eval()    "
   ]
  },
  {
   "attachments": {},
   "cell_type": "markdown",
   "metadata": {},
   "source": [
    "### 3: Generating Embeddings\n",
    "Running the BERT model on the input tensors."
   ]
  },
  {
   "cell_type": "code",
   "execution_count": null,
   "metadata": {},
   "outputs": [],
   "source": [
    "embeddings = {}\n",
    "output=[]\n",
    "for identifier, tensors in encoded_ads_tensors.items():\n",
    "    with torch.no_grad():\n",
    "        embeddings[identifier] = model(tensors[0],attention_mask=tensors[2])\n",
    "        output.append(embeddings[identifier].last_hidden_state)"
   ]
  },
  {
   "cell_type": "code",
   "execution_count": null,
   "metadata": {},
   "outputs": [],
   "source": [
    "#Now implementing Cosine Similarity between the two embeddings\n",
    "import torch.nn.functional as F\n",
    "\n",
    "def cosine_similarity(a,b):\n",
    "    return F.cosine_similarity(a,b,dim=1)\n",
    "print(\"Cosine Similarity between the two embeddings: \",cosine_similarity(output[0][-1].unsqueeze(0),output[1][-1].unsqueeze(0))[0][0])"
   ]
  }
 ],
 "metadata": {
  "kernelspec": {
   "display_name": ".venv",
   "language": "python",
   "name": "python3"
  },
  "language_info": {
   "codemirror_mode": {
    "name": "ipython",
    "version": 3
   },
   "file_extension": ".py",
   "mimetype": "text/x-python",
   "name": "python",
   "nbconvert_exporter": "python",
   "pygments_lexer": "ipython3",
   "version": "3.11.3"
  },
  "orig_nbformat": 4,
  "vscode": {
   "interpreter": {
    "hash": "e5f9e2482a693c8b32e66cdc5103ae302a60b2aeedba5852f87dfe7756d28f23"
   }
  }
 },
 "nbformat": 4,
 "nbformat_minor": 2
}
