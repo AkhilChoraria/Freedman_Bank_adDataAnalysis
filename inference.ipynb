{
 "cells": [
  {
   "attachments": {},
   "cell_type": "markdown",
   "metadata": {},
   "source": [
    "## Controller File to generate the Cosine Similarity Values\n",
    "This is the main file that generates the Cosine Similarity Values of every ad and the dictionary and stores it in an excel sheet"
   ]
  },
  {
   "cell_type": "code",
   "execution_count": 1,
   "metadata": {},
   "outputs": [],
   "source": [
    "\n",
    "import pandas as pd\n",
    "from Scripts import adSimilarity \n",
    "import pickle\n",
    "def main():\n",
    "    with open ('serializedAdEmbeddings.pkl', 'rb') as fp:\n",
    "        deserializedAdEmbeddings = pickle.load(fp)\n",
    "        column_names=adSimilarity.getDictionaryColumns()\n",
    "        data=pd.DataFrame(columns=column_names)\n",
    "        for identifier in deserializedAdEmbeddings:\n",
    "            mean_pooled_value = deserializedAdEmbeddings[identifier]\n",
    "            cosine_similarity_val=adSimilarity.getCosineSimilarity(mean_pooled_value)\n",
    "            new_row={\"Identifier\":identifier}\n",
    "            for i in range(len(cosine_similarity_val)):\n",
    "                new_row[column_names[i+1]]=cosine_similarity_val[i]\n",
    "            data.loc[len(data)]=new_row\n",
    "        \n",
    "    data.to_csv(\"similarityValues/AdSimilarity_unified.csv\",index=False)\n",
    "    data.to_json(\"similarityValues/AdSimilarity_unified.json\",orient=\"records\",indent=4)\n",
    "    data.to_excel(\"similarityValues/AdSimilarity_unified.xlsx\",index=False)\n",
    "main()\n",
    "\n",
    "\n",
    "            \n",
    "\n",
    "        \n",
    "\n"
   ]
  }
 ],
 "metadata": {
  "kernelspec": {
   "display_name": "fsbvenv",
   "language": "python",
   "name": "python3"
  },
  "language_info": {
   "codemirror_mode": {
    "name": "ipython",
    "version": 3
   },
   "file_extension": ".py",
   "mimetype": "text/x-python",
   "name": "python",
   "nbconvert_exporter": "python",
   "pygments_lexer": "ipython3",
   "version": "3.10.4"
  },
  "orig_nbformat": 4
 },
 "nbformat": 4,
 "nbformat_minor": 2
}
