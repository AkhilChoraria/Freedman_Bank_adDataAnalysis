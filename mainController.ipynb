{
 "cells": [
  {
   "attachments": {},
   "cell_type": "markdown",
   "metadata": {},
   "source": [
    "## Controller File to generate the Cosine Similarity Values\n",
    "This is the main file that generates the Cosine Similarity Values of every ad and the dictionary and stores it in an excel sheet"
   ]
  },
  {
   "cell_type": "code",
   "execution_count": null,
   "metadata": {},
   "outputs": [],
   "source": [
    "from adSimilarity import *\n",
    "import pandas as pd\n",
    "from Scripts import adsApi\n",
    "import pickle\n",
    "def main():\n",
    "    data=pd.DataFrame(columns=[\"Identifier\",\"Dictionary1\",\"Dictionary2\",\"Dictionary3\",\"Dictionary4\",\"Dictionary5\",\"Dictionary6\",\"Dictionary7\",\"Dictionary8\",\"Dictionary9\"])\n",
    "    with open ('serializedAdEmbeddings.pkl', 'rb') as fp:\n",
    "        deserializedAdEmbeddings = pickle.load(fp)\n",
    "        for identifier in deserializedAdEmbeddings:\n",
    "            mean_pooled_value = deserializedAdEmbeddings[identifier]\n",
    "            cosine_similarity_val=getCosineSimilarity(mean_pooled_value)\n",
    "            new_row={\"Identifier\":identifier,\"Dictionary1\":cosine_similarity_val[0],\"Dictionary2\":cosine_similarity_val[1],\"Dictionary3\":cosine_similarity_val[2],\"Dictionary4\":cosine_similarity_val[3],\"Dictionary5\":cosine_similarity_val[4],\"Dictionary6\":cosine_similarity_val[5],\"Dictionary7\":cosine_similarity_val[6],\"Dictionary8\":cosine_similarity_val[7],\"Dictionary9\":cosine_similarity_val[8]}\n",
    "            data.loc[len(data)]=new_row\n",
    "        \n",
    "    data.to_csv(\"similarityValues/newAdSimilarity.csv\",index=False)\n",
    "    data.to_json(\"adSimilarity.json\",orient=\"records\",indent=4)\n",
    "    data.to_excel(\"adSimilarity.xlsx\",index=False)\n",
    "main()\n",
    "\n",
    "\n",
    "            \n",
    "\n",
    "        \n",
    "\n"
   ]
  }
 ],
 "metadata": {
  "kernelspec": {
   "display_name": "fsbvenv",
   "language": "python",
   "name": "python3"
  },
  "language_info": {
   "codemirror_mode": {
    "name": "ipython",
    "version": 3
   },
   "file_extension": ".py",
   "mimetype": "text/x-python",
   "name": "python",
   "nbconvert_exporter": "python",
   "pygments_lexer": "ipython3",
   "version": "3.10.4"
  },
  "orig_nbformat": 4
 },
 "nbformat": 4,
 "nbformat_minor": 2
}
